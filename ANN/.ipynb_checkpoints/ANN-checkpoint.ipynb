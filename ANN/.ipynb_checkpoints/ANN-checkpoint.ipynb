{
 "cells": [
  {
   "cell_type": "code",
   "execution_count": 1,
   "metadata": {},
   "outputs": [],
   "source": [
    "import pandas as pd\n",
    "import numpy as np\n",
    "import matplotlib.pyplot as plt\n",
    "import seaborn as sns\n",
    "%matplotlib inline"
   ]
  },
  {
   "cell_type": "code",
   "execution_count": 4,
   "metadata": {
    "scrolled": true
   },
   "outputs": [
    {
     "data": {
      "text/html": [
       "<div>\n",
       "<style scoped>\n",
       "    .dataframe tbody tr th:only-of-type {\n",
       "        vertical-align: middle;\n",
       "    }\n",
       "\n",
       "    .dataframe tbody tr th {\n",
       "        vertical-align: top;\n",
       "    }\n",
       "\n",
       "    .dataframe thead th {\n",
       "        text-align: right;\n",
       "    }\n",
       "</style>\n",
       "<table border=\"1\" class=\"dataframe\">\n",
       "  <thead>\n",
       "    <tr style=\"text-align: right;\">\n",
       "      <th></th>\n",
       "      <th>RowNumber</th>\n",
       "      <th>CustomerId</th>\n",
       "      <th>Surname</th>\n",
       "      <th>CreditScore</th>\n",
       "      <th>Geography</th>\n",
       "      <th>Gender</th>\n",
       "      <th>Age</th>\n",
       "      <th>Tenure</th>\n",
       "      <th>Balance</th>\n",
       "      <th>NumOfProducts</th>\n",
       "      <th>HasCrCard</th>\n",
       "      <th>IsActiveMember</th>\n",
       "      <th>EstimatedSalary</th>\n",
       "      <th>Exited</th>\n",
       "    </tr>\n",
       "  </thead>\n",
       "  <tbody>\n",
       "    <tr>\n",
       "      <th>0</th>\n",
       "      <td>1</td>\n",
       "      <td>15634602</td>\n",
       "      <td>Hargrave</td>\n",
       "      <td>619</td>\n",
       "      <td>France</td>\n",
       "      <td>Female</td>\n",
       "      <td>42</td>\n",
       "      <td>2</td>\n",
       "      <td>0.00</td>\n",
       "      <td>1</td>\n",
       "      <td>1</td>\n",
       "      <td>1</td>\n",
       "      <td>101348.88</td>\n",
       "      <td>1</td>\n",
       "    </tr>\n",
       "    <tr>\n",
       "      <th>1</th>\n",
       "      <td>2</td>\n",
       "      <td>15647311</td>\n",
       "      <td>Hill</td>\n",
       "      <td>608</td>\n",
       "      <td>Spain</td>\n",
       "      <td>Female</td>\n",
       "      <td>41</td>\n",
       "      <td>1</td>\n",
       "      <td>83807.86</td>\n",
       "      <td>1</td>\n",
       "      <td>0</td>\n",
       "      <td>1</td>\n",
       "      <td>112542.58</td>\n",
       "      <td>0</td>\n",
       "    </tr>\n",
       "    <tr>\n",
       "      <th>2</th>\n",
       "      <td>3</td>\n",
       "      <td>15619304</td>\n",
       "      <td>Onio</td>\n",
       "      <td>502</td>\n",
       "      <td>France</td>\n",
       "      <td>Female</td>\n",
       "      <td>42</td>\n",
       "      <td>8</td>\n",
       "      <td>159660.80</td>\n",
       "      <td>3</td>\n",
       "      <td>1</td>\n",
       "      <td>0</td>\n",
       "      <td>113931.57</td>\n",
       "      <td>1</td>\n",
       "    </tr>\n",
       "    <tr>\n",
       "      <th>3</th>\n",
       "      <td>4</td>\n",
       "      <td>15701354</td>\n",
       "      <td>Boni</td>\n",
       "      <td>699</td>\n",
       "      <td>France</td>\n",
       "      <td>Female</td>\n",
       "      <td>39</td>\n",
       "      <td>1</td>\n",
       "      <td>0.00</td>\n",
       "      <td>2</td>\n",
       "      <td>0</td>\n",
       "      <td>0</td>\n",
       "      <td>93826.63</td>\n",
       "      <td>0</td>\n",
       "    </tr>\n",
       "    <tr>\n",
       "      <th>4</th>\n",
       "      <td>5</td>\n",
       "      <td>15737888</td>\n",
       "      <td>Mitchell</td>\n",
       "      <td>850</td>\n",
       "      <td>Spain</td>\n",
       "      <td>Female</td>\n",
       "      <td>43</td>\n",
       "      <td>2</td>\n",
       "      <td>125510.82</td>\n",
       "      <td>1</td>\n",
       "      <td>1</td>\n",
       "      <td>1</td>\n",
       "      <td>79084.10</td>\n",
       "      <td>0</td>\n",
       "    </tr>\n",
       "  </tbody>\n",
       "</table>\n",
       "</div>"
      ],
      "text/plain": [
       "   RowNumber  CustomerId   Surname  CreditScore Geography  Gender  Age  \\\n",
       "0          1    15634602  Hargrave          619    France  Female   42   \n",
       "1          2    15647311      Hill          608     Spain  Female   41   \n",
       "2          3    15619304      Onio          502    France  Female   42   \n",
       "3          4    15701354      Boni          699    France  Female   39   \n",
       "4          5    15737888  Mitchell          850     Spain  Female   43   \n",
       "\n",
       "   Tenure    Balance  NumOfProducts  HasCrCard  IsActiveMember  \\\n",
       "0       2       0.00              1          1               1   \n",
       "1       1   83807.86              1          0               1   \n",
       "2       8  159660.80              3          1               0   \n",
       "3       1       0.00              2          0               0   \n",
       "4       2  125510.82              1          1               1   \n",
       "\n",
       "   EstimatedSalary  Exited  \n",
       "0        101348.88       1  \n",
       "1        112542.58       0  \n",
       "2        113931.57       1  \n",
       "3         93826.63       0  \n",
       "4         79084.10       0  "
      ]
     },
     "execution_count": 4,
     "metadata": {},
     "output_type": "execute_result"
    }
   ],
   "source": [
    "df=pd.read_csv(\"../Datasets/Churn_Modelling.csv\")\n",
    "df.head()"
   ]
  },
  {
   "cell_type": "markdown",
   "metadata": {},
   "source": [
    "## EDA"
   ]
  },
  {
   "cell_type": "code",
   "execution_count": 5,
   "metadata": {},
   "outputs": [
    {
     "data": {
      "text/plain": [
       "<AxesSubplot:>"
      ]
     },
     "execution_count": 5,
     "metadata": {},
     "output_type": "execute_result"
    },
    {
     "data": {
      "image/png": "[encoded data removed]",
      "text/plain": [
       "<Figure size 432x288 with 2 Axes>"
      ]
     },
     "metadata": {
      "needs_background": "light"
     },
     "output_type": "display_data"
    }
   ],
   "source": [
    "sns.heatmap(df.isna())\n",
    "# df.isnull().sum()"
   ]
  },
  {
   "cell_type": "code",
   "execution_count": 7,
   "metadata": {},
   "outputs": [
    {
     "data": {
      "text/plain": [
       "<AxesSubplot:xlabel='Exited', ylabel='count'>"
      ]
     },
     "execution_count": 7,
     "metadata": {},
     "output_type": "execute_result"
    },
    {
     "data": {
      "image/png": "[encoded data removed]",
      "text/plain": [
       "<Figure size 432x288 with 1 Axes>"
      ]
     },
     "metadata": {},
     "output_type": "display_data"
    }
   ],
   "source": [
    "sns.set_style(\"whitegrid\")\n",
    "sns.countplot(x=\"Exited\",data=df)"
   ]
  },
  {
   "cell_type": "code",
   "execution_count": null,
   "metadata": {},
   "outputs": [],
   "source": []
  },
  {
   "cell_type": "code",
   "execution_count": 12,
   "metadata": {},
   "outputs": [
    {
     "data": {
      "text/plain": [
       "<AxesSubplot:>"
      ]
     },
     "execution_count": 12,
     "metadata": {},
     "output_type": "execute_result"
    },
    {
     "data": {
      "image/png": "[encoded data removed]",
      "text/plain": [
       "<Figure size 432x288 with 2 Axes>"
      ]
     },
     "metadata": {},
     "output_type": "display_data"
    }
   ],
   "source": [
    "sns.heatmap(df.corr(),annot=True)"
   ]
  },
  {
   "cell_type": "code",
   "execution_count": 11,
   "metadata": {},
   "outputs": [
    {
     "data": {
      "text/plain": [
       "<AxesSubplot:xlabel='Exited', ylabel='Balance'>"
      ]
     },
     "execution_count": 11,
     "metadata": {},
     "output_type": "execute_result"
    },
    {
     "data": {
      "image/png": "[encoded data removed]",
      "text/plain": [
       "<Figure size 432x288 with 1 Axes>"
      ]
     },
     "metadata": {},
     "output_type": "display_data"
    }
   ],
   "source": [
    "sns.boxplot(x=\"Exited\",y=\"Balance\",data=df)"
   ]
  },
  {
   "cell_type": "code",
   "execution_count": 15,
   "metadata": {},
   "outputs": [],
   "source": [
    "df.drop([\"CustomerId\",\"Surname\",\"RowNumber\"],inplace=True,axis=1)"
   ]
  },
  {
   "cell_type": "markdown",
   "metadata": {},
   "source": [
    "## Data preprocessing"
   ]
  },
  {
   "cell_type": "code",
   "execution_count": 16,
   "metadata": {},
   "outputs": [],
   "source": [
    "#get dummies value of all categories variable\n",
    "all_dummies=[]\n",
    "object_cols=[]\n",
    "for col in df.columns:\n",
    "    if df[col].dtype==\"O\":\n",
    "        col_dummies=pd.get_dummies(df[col],drop_first=True)\n",
    "        object_cols.append(col)\n",
    "        all_dummies.append(col_dummies)\n",
    "    "
   ]
  },
  {
   "cell_type": "code",
   "execution_count": 18,
   "metadata": {},
   "outputs": [],
   "source": [
    "# all_dummies"
   ]
  },
  {
   "cell_type": "code",
   "execution_count": 19,
   "metadata": {},
   "outputs": [],
   "source": [
    "df.drop(object_cols,axis=1,inplace=True)"
   ]
  },
  {
   "cell_type": "code",
   "execution_count": 26,
   "metadata": {},
   "outputs": [
    {
     "data": {
      "text/html": [
       "<div>\n",
       "<style scoped>\n",
       "    .dataframe tbody tr th:only-of-type {\n",
       "        vertical-align: middle;\n",
       "    }\n",
       "\n",
       "    .dataframe tbody tr th {\n",
       "        vertical-align: top;\n",
       "    }\n",
       "\n",
       "    .dataframe thead th {\n",
       "        text-align: right;\n",
       "    }\n",
       "</style>\n",
       "<table border=\"1\" class=\"dataframe\">\n",
       "  <thead>\n",
       "    <tr style=\"text-align: right;\">\n",
       "      <th></th>\n",
       "      <th>CreditScore</th>\n",
       "      <th>Age</th>\n",
       "      <th>Tenure</th>\n",
       "      <th>Balance</th>\n",
       "      <th>NumOfProducts</th>\n",
       "      <th>HasCrCard</th>\n",
       "      <th>IsActiveMember</th>\n",
       "      <th>EstimatedSalary</th>\n",
       "      <th>Exited</th>\n",
       "      <th>Germany</th>\n",
       "      <th>Spain</th>\n",
       "      <th>Male</th>\n",
       "    </tr>\n",
       "  </thead>\n",
       "  <tbody>\n",
       "    <tr>\n",
       "      <th>0</th>\n",
       "      <td>619</td>\n",
       "      <td>42</td>\n",
       "      <td>2</td>\n",
       "      <td>0.00</td>\n",
       "      <td>1</td>\n",
       "      <td>1</td>\n",
       "      <td>1</td>\n",
       "      <td>101348.88</td>\n",
       "      <td>1</td>\n",
       "      <td>0</td>\n",
       "      <td>0</td>\n",
       "      <td>0</td>\n",
       "    </tr>\n",
       "    <tr>\n",
       "      <th>1</th>\n",
       "      <td>608</td>\n",
       "      <td>41</td>\n",
       "      <td>1</td>\n",
       "      <td>83807.86</td>\n",
       "      <td>1</td>\n",
       "      <td>0</td>\n",
       "      <td>1</td>\n",
       "      <td>112542.58</td>\n",
       "      <td>0</td>\n",
       "      <td>0</td>\n",
       "      <td>1</td>\n",
       "      <td>0</td>\n",
       "    </tr>\n",
       "    <tr>\n",
       "      <th>2</th>\n",
       "      <td>502</td>\n",
       "      <td>42</td>\n",
       "      <td>8</td>\n",
       "      <td>159660.80</td>\n",
       "      <td>3</td>\n",
       "      <td>1</td>\n",
       "      <td>0</td>\n",
       "      <td>113931.57</td>\n",
       "      <td>1</td>\n",
       "      <td>0</td>\n",
       "      <td>0</td>\n",
       "      <td>0</td>\n",
       "    </tr>\n",
       "    <tr>\n",
       "      <th>3</th>\n",
       "      <td>699</td>\n",
       "      <td>39</td>\n",
       "      <td>1</td>\n",
       "      <td>0.00</td>\n",
       "      <td>2</td>\n",
       "      <td>0</td>\n",
       "      <td>0</td>\n",
       "      <td>93826.63</td>\n",
       "      <td>0</td>\n",
       "      <td>0</td>\n",
       "      <td>0</td>\n",
       "      <td>0</td>\n",
       "    </tr>\n",
       "    <tr>\n",
       "      <th>4</th>\n",
       "      <td>850</td>\n",
       "      <td>43</td>\n",
       "      <td>2</td>\n",
       "      <td>125510.82</td>\n",
       "      <td>1</td>\n",
       "      <td>1</td>\n",
       "      <td>1</td>\n",
       "      <td>79084.10</td>\n",
       "      <td>0</td>\n",
       "      <td>0</td>\n",
       "      <td>1</td>\n",
       "      <td>0</td>\n",
       "    </tr>\n",
       "  </tbody>\n",
       "</table>\n",
       "</div>"
      ],
      "text/plain": [
       "   CreditScore  Age  Tenure    Balance  NumOfProducts  HasCrCard  \\\n",
       "0          619   42       2       0.00              1          1   \n",
       "1          608   41       1   83807.86              1          0   \n",
       "2          502   42       8  159660.80              3          1   \n",
       "3          699   39       1       0.00              2          0   \n",
       "4          850   43       2  125510.82              1          1   \n",
       "\n",
       "   IsActiveMember  EstimatedSalary  Exited  Germany  Spain  Male  \n",
       "0               1        101348.88       1        0      0     0  \n",
       "1               1        112542.58       0        0      1     0  \n",
       "2               0        113931.57       1        0      0     0  \n",
       "3               0         93826.63       0        0      0     0  \n",
       "4               1         79084.10       0        0      1     0  "
      ]
     },
     "execution_count": 26,
     "metadata": {},
     "output_type": "execute_result"
    }
   ],
   "source": [
    "data_dummies=[]\n",
    "data_dummies.append(df)\n",
    "data_dummies.extend(all_dummies)\n",
    "df1=pd.concat(data_dummies,axis=1)\n",
    "df1.head()"
   ]
  },
  {
   "cell_type": "code",
   "execution_count": 27,
   "metadata": {},
   "outputs": [],
   "source": [
    "from sklearn.preprocessing import MinMaxScaler\n",
    "scaler=MinMaxScaler()\n",
    "df1[[\"CreditScore\",\"Age\",\"Tenure\",\"Balance\",\"EstimatedSalary\"]]=scaler.fit_transform(df1[[\"CreditScore\",\"Age\",\"Tenure\",\"Balance\",\"EstimatedSalary\"]])"
   ]
  },
  {
   "cell_type": "code",
   "execution_count": 35,
   "metadata": {},
   "outputs": [],
   "source": [
    "x=df1.drop(\"Exited\",axis=1)\n",
    "y=df1[\"Exited\"]"
   ]
  },
  {
   "cell_type": "code",
   "execution_count": null,
   "metadata": {},
   "outputs": [],
   "source": []
  },
  {
   "cell_type": "markdown",
   "metadata": {},
   "source": [
    "## Model training"
   ]
  },
  {
   "cell_type": "code",
   "execution_count": 29,
   "metadata": {},
   "outputs": [],
   "source": [
    "from tensorflow import keras\n",
    "import tensorflow as tf\n",
    "from sklearn.model_selection import train_test_split"
   ]
  },
  {
   "cell_type": "code",
   "execution_count": 36,
   "metadata": {},
   "outputs": [],
   "source": [
    "x_train,x_test,y_train,y_test=train_test_split(x,y,test_size=0.3)"
   ]
  },
  {
   "cell_type": "code",
   "execution_count": 44,
   "metadata": {},
   "outputs": [],
   "source": [
    "## create ann\n",
    "model = keras.Sequential([\n",
    "    keras.layers.Dense(64,input_shape=(11,),activation=\"relu\"),\n",
    "    keras.layers.Dense(32,activation=\"relu\"),\n",
    "    keras.layers.Dense(16,activation=\"relu\"),\n",
    "    keras.layers.Dense(1,activation=\"sigmoid\")\n",
    "    \n",
    "])\n",
    "\n",
    "#compile\n",
    "model.compile(optimizer='adam',\n",
    "              loss='binary_crossentropy',\n",
    "              metrics=['accuracy'])\n"
   ]
  },
  {
   "cell_type": "code",
   "execution_count": 46,
   "metadata": {},
   "outputs": [
    {
     "name": "stdout",
     "output_type": "stream",
     "text": [
      "Epoch 1/100\n",
      "219/219 [==============================] - 0s 855us/step - loss: 0.4913 - accuracy: 0.7936\n",
      "Epoch 2/100\n",
      "219/219 [==============================] - 0s 848us/step - loss: 0.4374 - accuracy: 0.8151\n",
      "Epoch 3/100\n",
      "219/219 [==============================] - 0s 808us/step - loss: 0.3988 - accuracy: 0.8321\n",
      "Epoch 4/100\n",
      "219/219 [==============================] - 0s 836us/step - loss: 0.3794 - accuracy: 0.8429\n",
      "Epoch 5/100\n",
      "219/219 [==============================] - 0s 791us/step - loss: 0.3661 - accuracy: 0.8457\n",
      "Epoch 6/100\n",
      "219/219 [==============================] - 0s 856us/step - loss: 0.3582 - accuracy: 0.8527\n",
      "Epoch 7/100\n",
      "219/219 [==============================] - 0s 887us/step - loss: 0.3506 - accuracy: 0.8557\n",
      "Epoch 8/100\n",
      "219/219 [==============================] - 0s 833us/step - loss: 0.3504 - accuracy: 0.8576\n",
      "Epoch 9/100\n",
      "219/219 [==============================] - 0s 816us/step - loss: 0.3470 - accuracy: 0.8601\n",
      "Epoch 10/100\n",
      "219/219 [==============================] - 0s 841us/step - loss: 0.3432 - accuracy: 0.8623\n",
      "Epoch 11/100\n",
      "219/219 [==============================] - 0s 799us/step - loss: 0.3431 - accuracy: 0.8567\n",
      "Epoch 12/100\n",
      "219/219 [==============================] - 0s 926us/step - loss: 0.3413 - accuracy: 0.8633\n",
      "Epoch 13/100\n",
      "219/219 [==============================] - 0s 914us/step - loss: 0.3407 - accuracy: 0.8626\n",
      "Epoch 14/100\n",
      "219/219 [==============================] - 0s 870us/step - loss: 0.3385 - accuracy: 0.8637\n",
      "Epoch 15/100\n",
      "219/219 [==============================] - 0s 877us/step - loss: 0.3353 - accuracy: 0.8684\n",
      "Epoch 16/100\n",
      "219/219 [==============================] - 0s 944us/step - loss: 0.3340 - accuracy: 0.8667\n",
      "Epoch 17/100\n",
      "219/219 [==============================] - 0s 837us/step - loss: 0.3340 - accuracy: 0.8667\n",
      "Epoch 18/100\n",
      "219/219 [==============================] - 0s 831us/step - loss: 0.3330 - accuracy: 0.8671\n",
      "Epoch 19/100\n",
      "219/219 [==============================] - 0s 914us/step - loss: 0.3318 - accuracy: 0.8623\n",
      "Epoch 20/100\n",
      "219/219 [==============================] - 0s 863us/step - loss: 0.3298 - accuracy: 0.8686\n",
      "Epoch 21/100\n",
      "219/219 [==============================] - 0s 838us/step - loss: 0.3314 - accuracy: 0.8677\n",
      "Epoch 22/100\n",
      "219/219 [==============================] - 0s 835us/step - loss: 0.3293 - accuracy: 0.8690\n",
      "Epoch 23/100\n",
      "219/219 [==============================] - 0s 839us/step - loss: 0.3246 - accuracy: 0.8690\n",
      "Epoch 24/100\n",
      "219/219 [==============================] - 0s 947us/step - loss: 0.3255 - accuracy: 0.8653\n",
      "Epoch 25/100\n",
      "219/219 [==============================] - 0s 846us/step - loss: 0.3233 - accuracy: 0.8680\n",
      "Epoch 26/100\n",
      "219/219 [==============================] - 0s 853us/step - loss: 0.3212 - accuracy: 0.8683\n",
      "Epoch 27/100\n",
      "219/219 [==============================] - 0s 839us/step - loss: 0.3212 - accuracy: 0.8646\n",
      "Epoch 28/100\n",
      "219/219 [==============================] - 0s 861us/step - loss: 0.3198 - accuracy: 0.8711\n",
      "Epoch 29/100\n",
      "219/219 [==============================] - 0s 1ms/step - loss: 0.3180 - accuracy: 0.8704\n",
      "Epoch 30/100\n",
      "219/219 [==============================] - 0s 905us/step - loss: 0.3175 - accuracy: 0.8696\n",
      "Epoch 31/100\n",
      "219/219 [==============================] - 0s 946us/step - loss: 0.3163 - accuracy: 0.8723\n",
      "Epoch 32/100\n",
      "219/219 [==============================] - 0s 856us/step - loss: 0.3137 - accuracy: 0.8701\n",
      "Epoch 33/100\n",
      "219/219 [==============================] - 0s 843us/step - loss: 0.3137 - accuracy: 0.8709\n",
      "Epoch 34/100\n",
      "219/219 [==============================] - 0s 884us/step - loss: 0.3160 - accuracy: 0.8707\n",
      "Epoch 35/100\n",
      "219/219 [==============================] - 0s 861us/step - loss: 0.3117 - accuracy: 0.8743\n",
      "Epoch 36/100\n",
      "219/219 [==============================] - 0s 878us/step - loss: 0.3117 - accuracy: 0.8706\n",
      "Epoch 37/100\n",
      "219/219 [==============================] - 0s 852us/step - loss: 0.3100 - accuracy: 0.8706\n",
      "Epoch 38/100\n",
      "219/219 [==============================] - 0s 824us/step - loss: 0.3116 - accuracy: 0.8726\n",
      "Epoch 39/100\n",
      "219/219 [==============================] - 0s 816us/step - loss: 0.3084 - accuracy: 0.8757\n",
      "Epoch 40/100\n",
      "219/219 [==============================] - 0s 815us/step - loss: 0.3072 - accuracy: 0.8760\n",
      "Epoch 41/100\n",
      "219/219 [==============================] - 0s 2ms/step - loss: 0.3063 - accuracy: 0.8741\n",
      "Epoch 42/100\n",
      "219/219 [==============================] - 0s 1ms/step - loss: 0.3054 - accuracy: 0.8766\n",
      "Epoch 43/100\n",
      "219/219 [==============================] - 0s 924us/step - loss: 0.3061 - accuracy: 0.8731\n",
      "Epoch 44/100\n",
      "219/219 [==============================] - 0s 912us/step - loss: 0.3051 - accuracy: 0.8741\n",
      "Epoch 45/100\n",
      "219/219 [==============================] - 0s 871us/step - loss: 0.3037 - accuracy: 0.8743\n",
      "Epoch 46/100\n",
      "219/219 [==============================] - 0s 925us/step - loss: 0.3030 - accuracy: 0.8751\n",
      "Epoch 47/100\n",
      "219/219 [==============================] - 0s 887us/step - loss: 0.3003 - accuracy: 0.8791\n",
      "Epoch 48/100\n",
      "219/219 [==============================] - 0s 903us/step - loss: 0.3012 - accuracy: 0.8774\n",
      "Epoch 49/100\n",
      "219/219 [==============================] - 0s 964us/step - loss: 0.3019 - accuracy: 0.8780\n",
      "Epoch 50/100\n",
      "219/219 [==============================] - 0s 881us/step - loss: 0.2974 - accuracy: 0.8787\n",
      "Epoch 51/100\n",
      "219/219 [==============================] - 0s 890us/step - loss: 0.2981 - accuracy: 0.8800\n",
      "Epoch 52/100\n",
      "219/219 [==============================] - 0s 914us/step - loss: 0.2997 - accuracy: 0.8767\n",
      "Epoch 53/100\n",
      "219/219 [==============================] - 0s 934us/step - loss: 0.2970 - accuracy: 0.8784\n",
      "Epoch 54/100\n",
      "219/219 [==============================] - 0s 928us/step - loss: 0.2986 - accuracy: 0.8770\n",
      "Epoch 55/100\n",
      "219/219 [==============================] - 0s 940us/step - loss: 0.2952 - accuracy: 0.8797\n",
      "Epoch 56/100\n",
      "219/219 [==============================] - 0s 924us/step - loss: 0.2972 - accuracy: 0.8760\n",
      "Epoch 57/100\n",
      "219/219 [==============================] - 0s 863us/step - loss: 0.2964 - accuracy: 0.8779\n",
      "Epoch 58/100\n",
      "219/219 [==============================] - 0s 959us/step - loss: 0.2918 - accuracy: 0.8804\n",
      "Epoch 59/100\n",
      "219/219 [==============================] - 0s 902us/step - loss: 0.2911 - accuracy: 0.8827\n",
      "Epoch 60/100\n",
      "219/219 [==============================] - 0s 887us/step - loss: 0.2914 - accuracy: 0.8829\n",
      "Epoch 61/100\n",
      "219/219 [==============================] - 0s 1ms/step - loss: 0.2918 - accuracy: 0.8807\n",
      "Epoch 62/100\n",
      "219/219 [==============================] - 0s 864us/step - loss: 0.2913 - accuracy: 0.8797\n",
      "Epoch 63/100\n",
      "219/219 [==============================] - 0s 997us/step - loss: 0.2916 - accuracy: 0.8824\n",
      "Epoch 64/100\n",
      "219/219 [==============================] - 0s 930us/step - loss: 0.2888 - accuracy: 0.8820\n",
      "Epoch 65/100\n",
      "219/219 [==============================] - 0s 980us/step - loss: 0.2877 - accuracy: 0.8834\n",
      "Epoch 66/100\n",
      "219/219 [==============================] - 0s 947us/step - loss: 0.2885 - accuracy: 0.8810\n",
      "Epoch 67/100\n",
      "219/219 [==============================] - 0s 899us/step - loss: 0.2881 - accuracy: 0.8830\n",
      "Epoch 68/100\n",
      "219/219 [==============================] - 0s 964us/step - loss: 0.2865 - accuracy: 0.8826\n",
      "Epoch 69/100\n",
      "219/219 [==============================] - 0s 865us/step - loss: 0.2853 - accuracy: 0.8829\n",
      "Epoch 70/100\n",
      "219/219 [==============================] - 0s 889us/step - loss: 0.2845 - accuracy: 0.8836\n",
      "Epoch 71/100\n",
      "219/219 [==============================] - 0s 919us/step - loss: 0.2838 - accuracy: 0.8839\n",
      "Epoch 72/100\n",
      "219/219 [==============================] - 0s 870us/step - loss: 0.2831 - accuracy: 0.8834\n",
      "Epoch 73/100\n",
      "219/219 [==============================] - 0s 907us/step - loss: 0.2822 - accuracy: 0.8840\n",
      "Epoch 74/100\n",
      "219/219 [==============================] - 0s 914us/step - loss: 0.2808 - accuracy: 0.8874\n",
      "Epoch 75/100\n",
      "219/219 [==============================] - 0s 906us/step - loss: 0.2823 - accuracy: 0.8833\n",
      "Epoch 76/100\n",
      "219/219 [==============================] - 0s 1000us/step - loss: 0.2801 - accuracy: 0.8869\n",
      "Epoch 77/100\n",
      "219/219 [==============================] - 0s 917us/step - loss: 0.2801 - accuracy: 0.8841\n",
      "Epoch 78/100\n",
      "219/219 [==============================] - 0s 937us/step - loss: 0.2780 - accuracy: 0.8856\n",
      "Epoch 79/100\n"
     ]
    },
    {
     "name": "stdout",
     "output_type": "stream",
     "text": [
      "219/219 [==============================] - 0s 868us/step - loss: 0.2799 - accuracy: 0.8840\n",
      "Epoch 80/100\n",
      "219/219 [==============================] - 0s 838us/step - loss: 0.2779 - accuracy: 0.8861\n",
      "Epoch 81/100\n",
      "219/219 [==============================] - 0s 951us/step - loss: 0.2749 - accuracy: 0.8903\n",
      "Epoch 82/100\n",
      "219/219 [==============================] - 0s 835us/step - loss: 0.2756 - accuracy: 0.8890\n",
      "Epoch 83/100\n",
      "219/219 [==============================] - 0s 872us/step - loss: 0.2755 - accuracy: 0.8891\n",
      "Epoch 84/100\n",
      "219/219 [==============================] - 0s 967us/step - loss: 0.2747 - accuracy: 0.8876\n",
      "Epoch 85/100\n",
      "219/219 [==============================] - 0s 883us/step - loss: 0.2724 - accuracy: 0.8854\n",
      "Epoch 86/100\n",
      "219/219 [==============================] - 0s 931us/step - loss: 0.2732 - accuracy: 0.8854\n",
      "Epoch 87/100\n",
      "219/219 [==============================] - 0s 1ms/step - loss: 0.2733 - accuracy: 0.8899\n",
      "Epoch 88/100\n",
      "219/219 [==============================] - 0s 955us/step - loss: 0.2697 - accuracy: 0.8914\n",
      "Epoch 89/100\n",
      "219/219 [==============================] - 0s 891us/step - loss: 0.2697 - accuracy: 0.8900\n",
      "Epoch 90/100\n",
      "219/219 [==============================] - 0s 896us/step - loss: 0.2708 - accuracy: 0.8871\n",
      "Epoch 91/100\n",
      "219/219 [==============================] - 0s 968us/step - loss: 0.2677 - accuracy: 0.8899\n",
      "Epoch 92/100\n",
      "219/219 [==============================] - 0s 879us/step - loss: 0.2698 - accuracy: 0.8913\n",
      "Epoch 93/100\n",
      "219/219 [==============================] - 0s 854us/step - loss: 0.2688 - accuracy: 0.8884\n",
      "Epoch 94/100\n",
      "219/219 [==============================] - 0s 874us/step - loss: 0.2727 - accuracy: 0.8877\n",
      "Epoch 95/100\n",
      "219/219 [==============================] - 0s 921us/step - loss: 0.2674 - accuracy: 0.8890\n",
      "Epoch 96/100\n",
      "219/219 [==============================] - 0s 872us/step - loss: 0.2705 - accuracy: 0.8897\n",
      "Epoch 97/100\n",
      "219/219 [==============================] - 0s 856us/step - loss: 0.2639 - accuracy: 0.8913\n",
      "Epoch 98/100\n",
      "219/219 [==============================] - 0s 955us/step - loss: 0.2674 - accuracy: 0.8880\n",
      "Epoch 99/100\n",
      "219/219 [==============================] - 0s 875us/step - loss: 0.2646 - accuracy: 0.8919\n",
      "Epoch 100/100\n",
      "219/219 [==============================] - 0s 908us/step - loss: 0.2671 - accuracy: 0.8886\n"
     ]
    },
    {
     "data": {
      "text/plain": [
       "<tensorflow.python.keras.callbacks.History at 0x7f63dacf1bb0>"
      ]
     },
     "execution_count": 46,
     "metadata": {},
     "output_type": "execute_result"
    }
   ],
   "source": [
    "model.fit(x_train, y_train, epochs=100)"
   ]
  },
  {
   "cell_type": "markdown",
   "metadata": {},
   "source": [
    "## hyperparameter tuning"
   ]
  },
  {
   "cell_type": "code",
   "execution_count": 48,
   "metadata": {},
   "outputs": [],
   "source": [
    "# !pip install keras_tuner"
   ]
  },
  {
   "cell_type": "code",
   "execution_count": 49,
   "metadata": {},
   "outputs": [],
   "source": [
    "import keras_tuner as kt"
   ]
  },
  {
   "cell_type": "code",
   "execution_count": 52,
   "metadata": {},
   "outputs": [],
   "source": [
    "def build_model(hp):\n",
    "    model=keras.Sequential()\n",
    "    \n",
    "    model.add(keras.layers.Dense(\n",
    "        hp.Choice(\"units\",[8,16,32]),\n",
    "        activation=\"relu\"\n",
    "    ))\n",
    "    \n",
    "    model.add(keras.layers.Dense(1,activation=\"relu\"))\n",
    "    \n",
    "    #compile\n",
    "    model.compile(optimizer='adam',\n",
    "                  loss='binary_crossentropy',\n",
    "                  metrics=['accuracy'])\n",
    "    return model"
   ]
  },
  {
   "cell_type": "code",
   "execution_count": 53,
   "metadata": {},
   "outputs": [],
   "source": [
    "tuner = kt.RandomSearch(\n",
    "    build_model,\n",
    "    objective='val_loss',\n",
    "    max_trials=5)"
   ]
  },
  {
   "cell_type": "code",
   "execution_count": 55,
   "metadata": {},
   "outputs": [
    {
     "name": "stdout",
     "output_type": "stream",
     "text": [
      "Trial 2 Complete [00h 00m 01s]\n",
      "val_loss: 0.5559300184249878\n",
      "\n",
      "Best val_loss So Far: 0.5559300184249878\n",
      "Total elapsed time: 00h 00m 04s\n",
      "INFO:tensorflow:Oracle triggered exit\n"
     ]
    }
   ],
   "source": [
    "tuner.search(x_train, y_train, epochs=5, validation_data=(x_test, y_test))\n",
    "best_model = tuner.get_best_models()[0]"
   ]
  },
  {
   "cell_type": "code",
   "execution_count": null,
   "metadata": {},
   "outputs": [],
   "source": []
  }
 ],
 "metadata": {
  "kernelspec": {
   "display_name": "Python 3",
   "language": "python",
   "name": "python3"
  },
  "language_info": {
   "codemirror_mode": {
    "name": "ipython",
    "version": 3
   },
   "file_extension": ".py",
   "mimetype": "text/x-python",
   "name": "python",
   "nbconvert_exporter": "python",
   "pygments_lexer": "ipython3",
   "version": "3.8.3"
  }
 },
 "nbformat": 4,
 "nbformat_minor": 4
}
